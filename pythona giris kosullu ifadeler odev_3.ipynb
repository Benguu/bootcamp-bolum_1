{
 "cells": [
  {
   "cell_type": "code",
   "execution_count": 7,
   "metadata": {},
   "outputs": [
    {
     "name": "stdout",
     "output_type": "stream",
     "text": [
      "Hangi sıcaklık değerini çevirmek istersiniz fahrenheit(F) ya da santigrat(C) ?f\n",
      "Bir fahrenheit değeri girin?104\n",
      "104 F = 40.0 °C\n"
     ]
    }
   ],
   "source": [
    "#soru_1\n",
    "#Kullanıcıdan Santigrat ya da Fahrenheit olarak sıcaklık değerini alacak ve diğer sıcaklık birimine çevirecek bir kod yazın.\n",
    "#Dönüşüm için C = (5/9) * (F - 32) formülünü kullanabilirsiniz.\n",
    "x = input(\"Hangi sıcaklık değerini çevirmek istersiniz fahrenheit(F) ya da santigrat(C) ?\")\n",
    "if x == \"f\":\n",
    "    y = input(\"Bir fahrenheit değeri girin?\")\n",
    "    f = (int(y) - 32) * 5.0 / 9\n",
    "    print (y , \"F\",\"=\" ,  f,  \"°C\")\n",
    "    \n",
    "elif x == \"c\":\n",
    "        z = input(\"Bir santigrat değeri girin?\")\n",
    "        c = (int(z) * 9) / 5.0 + 32\n",
    "        \n",
    "        print (z , \"°C\",\"=\" ,  c,  \"F\")"
   ]
  },
  {
   "cell_type": "code",
   "execution_count": 18,
   "metadata": {},
   "outputs": [
    {
     "name": "stdout",
     "output_type": "stream",
     "text": [
      "bir kelime girin: otobüs\n",
      "süboto\n"
     ]
    }
   ],
   "source": [
    "#soru_2\n",
    "#Kullanıcının girdiği kelimeyi ters çeviren bir kod yazınız.\n",
    "s = input(\"bir kelime girin: \")\n",
    "print (s[::-1])"
   ]
  },
  {
   "cell_type": "code",
   "execution_count": 24,
   "metadata": {},
   "outputs": [
    {
     "name": "stdout",
     "output_type": "stream",
     "text": [
      "[1, 1, 2]\n",
      "[1, 1, 2, 3]\n",
      "[1, 1, 2, 3, 5]\n",
      "[1, 1, 2, 3, 5, 8]\n",
      "[1, 1, 2, 3, 5, 8, 13]\n",
      "[1, 1, 2, 3, 5, 8, 13, 21]\n",
      "[1, 1, 2, 3, 5, 8, 13, 21, 34]\n",
      "[1, 1, 2, 3, 5, 8, 13, 21, 34, 55]\n"
     ]
    }
   ],
   "source": [
    "#soru_3\n",
    "#1'den 50'ye kadar olan Fibonacci sayılarından oluşan bir liste oluşturun. \n",
    "#İlk iki Fibonacci sayısı 1'dir. Sonraki sayılar, önceki iki sayının toplamıdır.\n",
    "\n",
    "fibonacci_sayilari = [1, 1]\n",
    "for i in range(2,10):\n",
    "    fibonacci_sayilari.append(fibonacci_sayilari[i-1]+fibonacci_sayilari[i-2])\n",
    "    print (fibonacci_sayilari)"
   ]
  },
  {
   "cell_type": "code",
   "execution_count": 25,
   "metadata": {},
   "outputs": [
    {
     "name": "stdout",
     "output_type": "stream",
     "text": [
      "Bir sayı girin: 6\n",
      "6 x 1 = 6\n",
      "6 x 2 = 12\n",
      "6 x 3 = 18\n",
      "6 x 4 = 24\n",
      "6 x 5 = 30\n",
      "6 x 6 = 36\n",
      "6 x 7 = 42\n",
      "6 x 8 = 48\n",
      "6 x 9 = 54\n",
      "6 x 10 = 60\n"
     ]
    }
   ],
   "source": [
    "#soru_4\n",
    "#Girilen bir sayı için çarpım tablosunu yazdırın.\n",
    "n = int(input(\"Bir sayı girin: \"))\n",
    "\n",
    "for i in range(1,11):\n",
    "   print(n,'x',i,'=',n*i)"
   ]
  },
  {
   "cell_type": "code",
   "execution_count": 30,
   "metadata": {},
   "outputs": [
    {
     "name": "stdout",
     "output_type": "stream",
     "text": [
      "[1, 8, 9, 64, 25, 216, 49, 512, 81, 1000, 121, 1728, 169, 2744, 225, 4096, 289, 5832, 361, 8000]\n"
     ]
    }
   ],
   "source": [
    "#soru_5\n",
    "#List comprehension kullanarak, 1'den 20'ye kadar tek sayıların karesini, \n",
    "#çift sayıların küpünü içeren bir liste oluşturun.\n",
    "liste = [x**3 if x % 2 == 0 else x**2 for x in range(1,21)]\n",
    "\n",
    "print(liste)"
   ]
  }
 ],
 "metadata": {
  "kernelspec": {
   "display_name": "Python 3",
   "language": "python",
   "name": "python3"
  },
  "language_info": {
   "codemirror_mode": {
    "name": "ipython",
    "version": 3
   },
   "file_extension": ".py",
   "mimetype": "text/x-python",
   "name": "python",
   "nbconvert_exporter": "python",
   "pygments_lexer": "ipython3",
   "version": "3.7.1"
  }
 },
 "nbformat": 4,
 "nbformat_minor": 2
}

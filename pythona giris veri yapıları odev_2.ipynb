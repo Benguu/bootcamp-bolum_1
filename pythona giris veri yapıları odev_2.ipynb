{
 "cells": [
  {
   "cell_type": "code",
   "execution_count": 3,
   "metadata": {},
   "outputs": [
    {
     "name": "stdout",
     "output_type": "stream",
     "text": [
      "['pazartesi', 'salı', 'çarşamba', 'perşembe', 'cuma', 'cumartesi', 'pazar']\n",
      "Bir gün giriniz : salı\n",
      "Başka bir  gün giriniz : cuma\n",
      "['pazartesi', 'çarşamba', 'perşembe', 'cumartesi', 'pazar']\n"
     ]
    }
   ],
   "source": [
    "# soru_1\n",
    "#İçerisinde 7 günün bulunduğu bir sözlük oluşturun. \n",
    "#Kullanıcıya günleri listeleyerek 2 farklı gün seçmesini isteyin (örneğin pazartesi ve salı için \"12\" gibi). \n",
    "#Kullanıcının seçtiği günleri sözlükten silerek kalan 5 günü ekrana yazdırın.\n",
    "Gunler = {'pazartesi': 1, 'salı' : 2, 'çarşamba' : 6, 'perşembe' : 7, 'cuma' : 8, 'cumartesi' : 9, 'pazar' : 4}\n",
    "print(list(Gunler.keys()))\n",
    "gun_1 = input('Bir gün giriniz : ')\n",
    "gun_2 = input('Başka bir  gün giriniz : ')\n",
    "del Gunler[gun_1]\n",
    "del Gunler[gun_2]\n",
    "print (list(Gunler.keys()))\n"
   ]
  },
  {
   "cell_type": "code",
   "execution_count": 4,
   "metadata": {},
   "outputs": [
    {
     "name": "stdout",
     "output_type": "stream",
     "text": [
      "[['Ocak'], [31], ['Şubat'], [28], ['Mart'], [31], ['Nisan'], [30], ['Mayıs'], [31], ['Haziran'], [30], ['Temmuz'], [31], ['Ağustos'], [31], ['Eylül'], [30], ['Ekim'], [31], ['Kasım'], [30], ['Aralık'], [31]]\n"
     ]
    }
   ],
   "source": [
    "# soru_2 Ayların kaç gün çektiğini karıştırabiliyoruz. \n",
    "#Bunun için bir liste oluşturun ancak listenizde ay isimleri ve gün sayıları beraber bulunsun \n",
    "#(ipucu: listenizin içinde başka bir veri yapısı yer alacak!).\n",
    "Aylar = [[\"Ocak\"], [31], [\"Şubat\"], [28], [\"Mart\"], [31], [\"Nisan\"], [30], [\"Mayıs\"], [31], [\"Haziran\"], [30],\n",
    "          [\"Temmuz\"], [31], [\"Ağustos\"], [31], [\"Eylül\"], [30], [\"Ekim\"], [31], [\"Kasım\"], [30], [\"Aralık\"], [31]]\n",
    "\n",
    "print(Aylar)"
   ]
  },
  {
   "cell_type": "code",
   "execution_count": 5,
   "metadata": {},
   "outputs": [
    {
     "name": "stdout",
     "output_type": "stream",
     "text": [
      "[['Ocak'], ['Şubat'], ['Mart'], ['Nisan'], ['Mayıs'], ['Haziran'], ['Temmuz'], ['Ağustos'], ['Eylül'], ['Ekim'], ['Kasım'], ['Aralık']] [[31], [28], [31], [30], [31], [30], [31], [31], [30], [31], [30], [31]]\n"
     ]
    }
   ],
   "source": [
    "# soru_3 Bilgileri bir önceki listeden alan başka bir ay listesi oluşturun. \n",
    "#Bu kez ayları günlerle birlikte listenin içinde iki ayrı listede tutun.\n",
    "ayliste = Aylar[0:23:2]\n",
    "gunler = Aylar[1:24:2]\n",
    "print(ayliste,gunler)"
   ]
  },
  {
   "cell_type": "code",
   "execution_count": 6,
   "metadata": {},
   "outputs": [
    {
     "name": "stdout",
     "output_type": "stream",
     "text": [
      "ilkbahar ayları : ['mart', 'nisan', 'mayıs']\n",
      "yaz ayları : ['haziran', 'temmuz', 'ağustos']\n",
      "sonbahar ayları : ['eylül', 'ekim', 'kasım']\n",
      "kış ayları : ['aralık', 'ocak', 'şubat']\n",
      "['haziran', 'temmuz', 'ağustos']\n"
     ]
    }
   ],
   "source": [
    "# soru_4 Şimdi ise mevsim mevsim ayrılmış ay listeleri oluşturun. Liste adlarına mevsimlerin adlarını verin.\n",
    "ilkbahar = ['mart', 'nisan', 'mayıs']\n",
    "yaz = ['haziran', 'temmuz','ağustos']\n",
    "sonbahar = ['eylül', 'ekim', 'kasım']\n",
    "kış = ['aralık', 'ocak', 'şubat']\n",
    "print('ilkbahar ayları :' , ilkbahar)\n",
    "print('yaz ayları :' , yaz)\n",
    "print('sonbahar ayları :' , sonbahar)\n",
    "print('kış ayları :' , kış)\n",
    "print (yaz)"
   ]
  },
  {
   "cell_type": "code",
   "execution_count": 18,
   "metadata": {
    "scrolled": true
   },
   "outputs": [
    {
     "name": "stdout",
     "output_type": "stream",
     "text": [
      "92\n"
     ]
    }
   ],
   "source": [
    "# soru_5 Son olarak, bir önceki sorudaki listeden yaz ayının kaç gün sürdüğünü hesaplayın.\n",
    "Ocak = Mart = Mayıs = Temmuz = Agustos = Ekim = Aralık = 31\n",
    "Nisan = Haziran = Eylül = Kasım = 30\n",
    "Subat = 28 \n",
    "print (Haziran+ Temmuz+Agustos)"
   ]
  }
 ],
 "metadata": {
  "kernelspec": {
   "display_name": "Python 3",
   "language": "python",
   "name": "python3"
  },
  "language_info": {
   "codemirror_mode": {
    "name": "ipython",
    "version": 3
   },
   "file_extension": ".py",
   "mimetype": "text/x-python",
   "name": "python",
   "nbconvert_exporter": "python",
   "pygments_lexer": "ipython3",
   "version": "3.7.1"
  }
 },
 "nbformat": 4,
 "nbformat_minor": 2
}

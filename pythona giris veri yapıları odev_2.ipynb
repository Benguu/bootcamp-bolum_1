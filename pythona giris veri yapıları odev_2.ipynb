{
 "cells": [
  {
   "cell_type": "code",
   "execution_count": 22,
   "metadata": {},
   "outputs": [
    {
     "name": "stdout",
     "output_type": "stream",
     "text": [
      "['pazartesi', 'salı', 'çarşamba', 'perşembe', 'cuma', 'cumartesi', 'pazar']\n",
      "Bir gün giriniz : salı\n",
      "Başka bir  gün giriniz : çarşamba\n",
      "['pazartesi', 'perşembe', 'cuma', 'cumartesi', 'pazar']\n"
     ]
    }
   ],
   "source": [
    "# soru_1\n",
    "#İçerisinde 7 günün bulunduğu bir sözlük oluşturun. \n",
    "#Kullanıcıya günleri listeleyerek 2 farklı gün seçmesini isteyin (örneğin pazartesi ve salı için \"12\" gibi). \n",
    "#Kullanıcının seçtiği günleri sözlükten silerek kalan 5 günü ekrana yazdırın.\n",
    "Gunler = {'pazartesi': 1, 'salı' : 2, 'çarşamba' : 6, 'perşembe' : 7, 'cuma' : 8, 'cumartesi' : 9, 'pazar' : 4}\n",
    "print(list(Gunler.keys()))\n",
    "gun_1 = input('Bir gün giriniz : ')\n",
    "gun_2 = input('Başka bir  gün giriniz : ')\n",
    "del Gunler[gun_1]\n",
    "del Gunler[gun_2]\n",
    "print (list(Gunler.keys()))\n"
   ]
  },
  {
   "cell_type": "code",
   "execution_count": 35,
   "metadata": {},
   "outputs": [
    {
     "name": "stdout",
     "output_type": "stream",
     "text": [
      "{'ocak': 31, 'şubat': 28, 'mart': 31, 'nisan': 30, 'mayıs': 31, 'haziran': 30, 'temmuz': 31, 'ağustos': 31, 'eylül': 30, 'ekim': 31, 'kasım': 30, 'aralık': 31}\n"
     ]
    }
   ],
   "source": [
    "# soru_2 Ayların kaç gün çektiğini karıştırabiliyoruz. \n",
    "#Bunun için bir liste oluşturun ancak listenizde ay isimleri ve gün sayıları beraber bulunsun \n",
    "#(ipucu: listenizin içinde başka bir veri yapısı yer alacak!).\n",
    "Aylar = {'ocak': 31, 'şubat': 28, 'mart' : 31, 'nisan' : 30, 'mayıs' : 31, \n",
    "         'haziran': 30, 'temmuz' : 31, 'ağustos' : 31, 'eylül' : 30, 'ekim' : 31, 'kasım' : 30, 'aralık' : 31 }\n",
    "print (Aylar)\n",
    "\n"
   ]
  },
  {
   "cell_type": "code",
   "execution_count": 24,
   "metadata": {},
   "outputs": [
    {
     "ename": "AttributeError",
     "evalue": "'list' object has no attribute 'keys'",
     "output_type": "error",
     "traceback": [
      "\u001b[1;31m---------------------------------------------------------------------------\u001b[0m",
      "\u001b[1;31mAttributeError\u001b[0m                            Traceback (most recent call last)",
      "\u001b[1;32m<ipython-input-24-2d8a097ceb88>\u001b[0m in \u001b[0;36m<module>\u001b[1;34m\u001b[0m\n\u001b[0;32m      1\u001b[0m \u001b[1;31m# soru_3 Bilgileri bir önceki listeden alan başka bir ay listesi oluşturun.\u001b[0m\u001b[1;33m\u001b[0m\u001b[1;33m\u001b[0m\u001b[1;33m\u001b[0m\u001b[0m\n\u001b[0;32m      2\u001b[0m \u001b[1;31m#Bu kez ayları günlerle birlikte listenin içinde iki ayrı listede tutun.\u001b[0m\u001b[1;33m\u001b[0m\u001b[1;33m\u001b[0m\u001b[1;33m\u001b[0m\u001b[0m\n\u001b[1;32m----> 3\u001b[1;33m \u001b[0mprint\u001b[0m \u001b[1;33m[\u001b[0m\u001b[0mlist\u001b[0m\u001b[1;33m[\u001b[0m\u001b[0mAylar\u001b[0m\u001b[1;33m.\u001b[0m\u001b[0mkeys\u001b[0m\u001b[1;33m(\u001b[0m\u001b[1;33m)\u001b[0m\u001b[1;33m]\u001b[0m\u001b[1;33m]\u001b[0m\u001b[1;33m\u001b[0m\u001b[1;33m\u001b[0m\u001b[0m\n\u001b[0m",
      "\u001b[1;31mAttributeError\u001b[0m: 'list' object has no attribute 'keys'"
     ]
    }
   ],
   "source": [
    "# soru_3 Bilgileri bir önceki listeden alan başka bir ay listesi oluşturun. \n",
    "#Bu kez ayları günlerle birlikte listenin içinde iki ayrı listede tutun.\n",
    "print [list[Aylar.keys()]]"
   ]
  },
  {
   "cell_type": "code",
   "execution_count": 31,
   "metadata": {},
   "outputs": [
    {
     "name": "stdout",
     "output_type": "stream",
     "text": [
      "ilkbahar ayları : ['mart', 'nisan', 'mayıs']\n",
      "yaz ayları : ['haziran', 'temmuz', 'ağustos']\n",
      "sonbahar ayları : ['eylül', 'ekim', 'kasım']\n",
      "kış ayları : ['aralık', 'ocak', 'şubat']\n",
      "['haziran', 'temmuz', 'ağustos']\n"
     ]
    }
   ],
   "source": [
    "# soru_4 Şimdi ise mevsim mevsim ayrılmış ay listeleri oluşturun. Liste adlarına mevsimlerin adlarını verin.\n",
    "ilkbahar = ['mart', 'nisan', 'mayıs']\n",
    "yaz = ['haziran', 'temmuz','ağustos']\n",
    "sonbahar = ['eylül', 'ekim', 'kasım']\n",
    "kış = ['aralık', 'ocak', 'şubat']\n",
    "print('ilkbahar ayları :' , ilkbahar)\n",
    "print('yaz ayları :' , yaz)\n",
    "print('sonbahar ayları :' , sonbahar)\n",
    "print('kış ayları :' , kış)\n",
    "print (yaz)"
   ]
  },
  {
   "cell_type": "code",
   "execution_count": 41,
   "metadata": {},
   "outputs": [
    {
     "name": "stdout",
     "output_type": "stream",
     "text": [
      "['haziran', 'temmuz', 'ağustos']\n",
      "92\n"
     ]
    }
   ],
   "source": [
    "# soru_5 Son olarak, bir önceki sorudaki listeden yaz ayının kaç gün sürdüğünü hesaplayın.\n",
    "print (yaz)\n",
    "print (Aylar['haziran'] + Aylar['temmuz']+Aylar['ağustos'])"
   ]
  }
 ],
 "metadata": {
  "kernelspec": {
   "display_name": "Python 3",
   "language": "python",
   "name": "python3"
  },
  "language_info": {
   "codemirror_mode": {
    "name": "ipython",
    "version": 3
   },
   "file_extension": ".py",
   "mimetype": "text/x-python",
   "name": "python",
   "nbconvert_exporter": "python",
   "pygments_lexer": "ipython3",
   "version": "3.7.1"
  }
 },
 "nbformat": 4,
 "nbformat_minor": 2
}

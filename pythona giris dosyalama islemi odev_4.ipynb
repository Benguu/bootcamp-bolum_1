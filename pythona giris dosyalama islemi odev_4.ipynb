{
 "cells": [
  {
   "cell_type": "code",
   "execution_count": 13,
   "metadata": {
    "scrolled": true
   },
   "outputs": [
    {
     "name": "stdout",
     "output_type": "stream",
     "text": [
      "Dize sayısı : 12\n"
     ]
    }
   ],
   "source": [
    "\n",
    "#soru_1\n",
    "#Seçeceğiniz herhangi bir şiiri bilgisayarına .txt dsyası olarak kaydedin. \n",
    "#Şiirin kaç dizeden oluştuğunu hesaplayın ve başka bir dosyaya her dizenin ilk kelimesini yazdırın.\n",
    "dize_sayısı = 0\n",
    "with open(\"C:\\\\Users\\\\PC\\\\Desktop\\\\sende_giz.txt\", \"r\", encoding='latin1') as f:\n",
    "    for line in f:\n",
    "       if line.strip():\n",
    "          dize_sayısı += 1\n",
    "\n",
    "print ('Dize sayısı :',  dize_sayısı)\n"
   ]
  },
  {
   "cell_type": "code",
   "execution_count": 15,
   "metadata": {},
   "outputs": [
    {
     "name": "stdout",
     "output_type": "stream",
     "text": [
      "['Yerin\\n', 'Kanatların\\n', 'Kalbinin\\n', 'Gözlerinin\\n', 'Sevdiklerin\\n', 'Nefret\\n', 'Ne\\n', 'Karşındakinin\\n', 'Yaşadıklarını\\n', 'Yaşadığın\\n', 'Sevdiğin\\n', 'Gülebildiğin\\n']\n"
     ]
    }
   ],
   "source": [
    "with open(\"C:\\\\Users\\\\Pc\\\\Desktop\\\\sende_giz.txt\", \"r\") as f:\n",
    "      with open(\"C:\\\\Users\\\\Pc\\\\Desktop\\\\sende_giz1.txt\", \"w\") as f1:\n",
    "              for line  in f:\n",
    "                f1.write(line.split(\" \")[0]+\"\\n\")  \n",
    "with open(\"C:\\\\Users\\\\Pc\\\\Desktop\\\\sende_giz1.txt\", \"r\") as f2:\n",
    "    \n",
    "    print(f2.readlines())"
   ]
  },
  {
   "cell_type": "code",
   "execution_count": 32,
   "metadata": {
    "scrolled": true
   },
   "outputs": [
    {
     "name": "stdout",
     "output_type": "stream",
     "text": [
      "True\n"
     ]
    }
   ],
   "source": [
    "#soru_2\n",
    "#Parametre olarak girilen bir sayının asal sayı olup olmadığını belirten bir fonksiyon yazın.\n",
    "\n",
    "\n",
    "def test_asal(n):\n",
    "    if (n==1):\n",
    "        return False\n",
    "    elif (n==2):\n",
    "        return True;\n",
    "    else:\n",
    "        for x in range(2,n):\n",
    "            if(n % x==0):\n",
    "                return False\n",
    "        return True             \n",
    "print(test_asal(11))\n",
    "\n"
   ]
  },
  {
   "cell_type": "code",
   "execution_count": 36,
   "metadata": {},
   "outputs": [
    {
     "name": "stdout",
     "output_type": "stream",
     "text": [
      "[1, 2, 3, 4]\n"
     ]
    }
   ],
   "source": [
    "#soru_3\n",
    "#Parametre olarak girilecek listenin elemanlarını yeni bir listeye her değer sadece bir kere geçecek şekilde aktaran bir fonksiyon yazın. \n",
    "#Normalde bu işlemi set() komutu ile yapabiliriz ama bu seferlik bu komutu kullanmayalım.\n",
    "def uniq_liste(l):\n",
    "  x = []\n",
    "  for a in l:\n",
    "    if a not in x:\n",
    "      x.append(a)\n",
    "  return x\n",
    "\n",
    "print(uniq_liste([1,2,2,3,3,4,4])) "
   ]
  },
  {
   "cell_type": "code",
   "execution_count": 16,
   "metadata": {},
   "outputs": [
    {
     "name": "stdout",
     "output_type": "stream",
     "text": [
      "\n",
      "22\n",
      "32\n",
      "\n"
     ]
    }
   ],
   "source": [
    "#soru_4\n",
    "#Python'da hazır birçok modül bulunmaktadır. \n",
    "#Zaman ile ilgili modüllerden birisini import ederek, parametre olarak doğum tarihi alan ve yaşı döndüren bir fonksiyon yazınız.\n",
    "from datetime import date\n",
    "\n",
    "def yas_hesapla(dtob):\n",
    "    today = date.today()\n",
    "    return today.year - dtob.year - ((today.month, today.day) < (dtob.month, dtob.day))\n",
    "print()\n",
    "print(yas_hesapla(date(1996,4,23)))\n",
    "print(yas_hesapla(date(1986,10,25)))\n",
    "print()"
   ]
  }
 ],
 "metadata": {
  "kernelspec": {
   "display_name": "Python 3",
   "language": "python",
   "name": "python3"
  },
  "language_info": {
   "codemirror_mode": {
    "name": "ipython",
    "version": 3
   },
   "file_extension": ".py",
   "mimetype": "text/x-python",
   "name": "python",
   "nbconvert_exporter": "python",
   "pygments_lexer": "ipython3",
   "version": "3.7.1"
  }
 },
 "nbformat": 4,
 "nbformat_minor": 2
}

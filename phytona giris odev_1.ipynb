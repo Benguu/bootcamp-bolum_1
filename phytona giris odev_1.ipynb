{
 "cells": [
  {
   "cell_type": "code",
   "execution_count": 1,
   "metadata": {},
   "outputs": [
    {
     "name": "stdout",
     "output_type": "stream",
     "text": [
      "Hafta başında 1000 dolarlık bitcoin aldığımızda günde ortalama %12 kazançla, bir hafta sonunda 2210.68 dolar paramız olurdu. \n"
     ]
    }
   ],
   "source": [
    "# soru_1\n",
    "anapara = 1000\n",
    "x1 = anapara * 0.12 + anapara\n",
    "x2 = x1 * 0.12 + x1\n",
    "x3 = x2 * 0.12 + x2\n",
    "x4 = x3 * 0.12 + x3\n",
    "x5 = x4 * 0.12 + x4\n",
    "x6 = x5 * 0.12 + x5\n",
    "x7 = x6 * 0.12 + x6\n",
    "print (\"Hafta başında\",  anapara ,  \"dolarlık bitcoin aldığımızda günde ortalama %12 kazançla, bir hafta sonunda {:.2f} dolar paramız olurdu. \".format (x7))"
   ]
  },
  {
   "cell_type": "code",
   "execution_count": 2,
   "metadata": {
    "scrolled": true
   },
   "outputs": [
    {
     "name": "stdout",
     "output_type": "stream",
     "text": [
      "Hafta başında 1000 dolarlık bitcoin aldığımızda günde ortalama %12 kazançla, bir hafta sonunda 1210.68 dolar kazanırdık. \n"
     ]
    }
   ],
   "source": [
    "# soru_2\n",
    "print (\"Hafta başında\",  anapara ,  \"dolarlık bitcoin aldığımızda günde ortalama %12 kazançla, bir hafta sonunda {:.2f} dolar kazanırdık. \".format (x7-anapara))"
   ]
  },
  {
   "cell_type": "code",
   "execution_count": 11,
   "metadata": {},
   "outputs": [
    {
     "name": "stdout",
     "output_type": "stream",
     "text": [
      "Dosya adı : bootcamp_ilkodev\n",
      "bootcamp_ilkodev.dy\n"
     ]
    }
   ],
   "source": [
    "# soru_3\n",
    "dosyaadi= input (\"Dosya adı : \")\n",
    "dosyaadi += \".dy\"\n",
    "print( dosyaadi)"
   ]
  }
 ],
 "metadata": {
  "kernelspec": {
   "display_name": "Python 3",
   "language": "python",
   "name": "python3"
  },
  "language_info": {
   "codemirror_mode": {
    "name": "ipython",
    "version": 3
   },
   "file_extension": ".py",
   "mimetype": "text/x-python",
   "name": "python",
   "nbconvert_exporter": "python",
   "pygments_lexer": "ipython3",
   "version": "3.7.1"
  }
 },
 "nbformat": 4,
 "nbformat_minor": 2
}
